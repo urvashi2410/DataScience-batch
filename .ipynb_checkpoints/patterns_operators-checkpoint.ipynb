{
 "cells": [
  {
   "cell_type": "code",
   "execution_count": null,
   "id": "8ca0d124",
   "metadata": {},
   "outputs": [],
   "source": [
    "# Assignment operator \n",
    "a = 10\n",
    "\n",
    "b = a\n",
    "print(b)\n",
    "b += a\n",
    "print(b)\n",
    "# b = b+a\n",
    "\n",
    "b -= a\n",
    "print(b)\n",
    "\n",
    "b *= a\n",
    "print(b)\n",
    "\n",
    "b /= a\n",
    "print(b)"
   ]
  },
  {
   "cell_type": "code",
   "execution_count": null,
   "id": "6277d479",
   "metadata": {},
   "outputs": [],
   "source": [
    "# indentity operator \n",
    "a = 10\n",
    "b = 5\n",
    "\n",
    "print(a is b)\n",
    "print(a is not b)"
   ]
  },
  {
   "cell_type": "code",
   "execution_count": null,
   "id": "13297332",
   "metadata": {},
   "outputs": [],
   "source": [
    "# Membership operator \n",
    "a = 10\n",
    "b = 5\n",
    "l = [1,2,3,4,5,6,7,8,9]\n",
    "\n",
    "if a in l:\n",
    "    print(\"yes\")\n",
    "\n",
    "if b in l:\n",
    "    print(\"b in l\")"
   ]
  },
  {
   "cell_type": "code",
   "execution_count": null,
   "id": "60630caf",
   "metadata": {},
   "outputs": [],
   "source": [
    "# Associativity = left to right \n",
    "# / , * = same precedence \n",
    "# +, - = same precedence \n",
    "# /, * > -, + \n",
    "# () = precedence acc to bodmas \n",
    "print(100 / 10*10)\n",
    "\n",
    "print(10-2+4)\n",
    "\n",
    "print(5 - (2+3))\n",
    "\n",
    "# right-left associativity \n",
    "print(2**3**4)"
   ]
  },
  {
   "cell_type": "code",
   "execution_count": null,
   "id": "7301ba66",
   "metadata": {},
   "outputs": [],
   "source": [
    "# + operator \n",
    "\n",
    "print(1 + 2)\n",
    "\n",
    "print(f\"hello world\")\n",
    "print(\"hello\" + \"world\")\n",
    "\n",
    "print(3 * 10)\n",
    "# print(\"hello\" + 3)\n",
    "\n",
    "# repeat the string \n",
    "print(\"hello\" * 3)"
   ]
  },
  {
   "cell_type": "code",
   "execution_count": null,
   "id": "4f8b4046",
   "metadata": {},
   "outputs": [],
   "source": [
    "# 1 2 2 3 3 3 4 4 4 4  \n",
    "n = int(input(\"enter n:\"))\n",
    "for i in range(1, n+1):\n",
    "    for j in range(i, n+1):\n",
    "        print(i, end=\" \")\n",
    "    print('\\n')"
   ]
  },
  {
   "cell_type": "code",
   "execution_count": null,
   "id": "b70d787e",
   "metadata": {},
   "outputs": [],
   "source": [
    "n = int(input(\"enter n:\"))\n",
    "for i in range(1, n+1):\n",
    "    for j in range(i):\n",
    "        print(i, end=\" \")\n",
    "    print('\\n')"
   ]
  },
  {
   "cell_type": "code",
   "execution_count": null,
   "id": "de3e12f8",
   "metadata": {},
   "outputs": [],
   "source": [
    "n = int(input(\"enter n:\"))\n",
    "for i in range(1, n+1):\n",
    "    print(i * '*')"
   ]
  },
  {
   "cell_type": "code",
   "execution_count": null,
   "id": "25940900",
   "metadata": {},
   "outputs": [],
   "source": [
    "n = int(input(\"enter n:\"))\n",
    "for i in range(1, n+1):\n",
    "    print(n * \"*\")"
   ]
  },
  {
   "cell_type": "code",
   "execution_count": null,
   "id": "cffbcdcb",
   "metadata": {},
   "outputs": [],
   "source": [
    "n = int(input(\"enter n\"))\n",
    "for i in range(0, n):\n",
    "    for j in range(0, n-i-1):\n",
    "        print(' ')\n",
    "    for j in range(0, i+1):\n",
    "        print('*')\n",
    "    print()"
   ]
  },
  {
   "cell_type": "code",
   "execution_count": null,
   "id": "032a2be3",
   "metadata": {},
   "outputs": [],
   "source": []
  }
 ],
 "metadata": {
  "kernelspec": {
   "display_name": "Python 3 (ipykernel)",
   "language": "python",
   "name": "python3"
  },
  "language_info": {
   "codemirror_mode": {
    "name": "ipython",
    "version": 3
   },
   "file_extension": ".py",
   "mimetype": "text/x-python",
   "name": "python",
   "nbconvert_exporter": "python",
   "pygments_lexer": "ipython3",
   "version": "3.10.4"
  }
 },
 "nbformat": 4,
 "nbformat_minor": 5
}

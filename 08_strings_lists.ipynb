{
 "cells": [
  {
   "cell_type": "code",
   "execution_count": 1,
   "id": "8364ed29",
   "metadata": {},
   "outputs": [
    {
     "name": "stdout",
     "output_type": "stream",
     "text": [
      "Iam\n",
      "aboy\n"
     ]
    }
   ],
   "source": [
    "s = 'Iam\\naboy'\n",
    "print(s)"
   ]
  },
  {
   "cell_type": "code",
   "execution_count": 2,
   "id": "c510020b",
   "metadata": {},
   "outputs": [
    {
     "name": "stdout",
     "output_type": "stream",
     "text": [
      "Iam\\taboy\n"
     ]
    }
   ],
   "source": [
    "# s = 'Iam\\\\naboy'\n",
    "s = 'Iam\\\\taboy'\n",
    "print(s)"
   ]
  },
  {
   "cell_type": "code",
   "execution_count": 3,
   "id": "cc3b7285",
   "metadata": {},
   "outputs": [
    {
     "name": "stdout",
     "output_type": "stream",
     "text": [
      "Iam'a boy'ajhjfh\"ry\"\n"
     ]
    }
   ],
   "source": [
    "s = '''Iam'a boy'ajhjfh\"ry\"'''\n",
    "print(s)"
   ]
  },
  {
   "cell_type": "code",
   "execution_count": 4,
   "id": "aaa77cd0",
   "metadata": {},
   "outputs": [
    {
     "name": "stdout",
     "output_type": "stream",
     "text": [
      "I am boy\n"
     ]
    }
   ],
   "source": [
    "s = \"{} {} {}\".format('I', 'am', 'boy')\n",
    "print(s)"
   ]
  },
  {
   "cell_type": "code",
   "execution_count": 5,
   "id": "3d2d4fe6",
   "metadata": {},
   "outputs": [
    {
     "name": "stdout",
     "output_type": "stream",
     "text": [
      "am boy I\n"
     ]
    }
   ],
   "source": [
    "s = \"{1} {2} {0}\".format('I', 'am', 'boy')\n",
    "print(s)"
   ]
  },
  {
   "cell_type": "code",
   "execution_count": 6,
   "id": "b05344fc",
   "metadata": {},
   "outputs": [
    {
     "name": "stdout",
     "output_type": "stream",
     "text": [
      "boy I am\n"
     ]
    }
   ],
   "source": [
    "s = \"{c} {a} {b}\".format(a = 'I', b = 'am', c = 'boy')\n",
    "print(s)"
   ]
  },
  {
   "cell_type": "code",
   "execution_count": 7,
   "id": "247d5562",
   "metadata": {},
   "outputs": [
    {
     "name": "stdout",
     "output_type": "stream",
     "text": [
      "10000\n"
     ]
    }
   ],
   "source": [
    "s = \"{0:b}\".format(16)\n",
    "print(s)"
   ]
  },
  {
   "cell_type": "code",
   "execution_count": 8,
   "id": "0f4d681e",
   "metadata": {},
   "outputs": [
    {
     "name": "stdout",
     "output_type": "stream",
     "text": [
      "1.234560e+02\n"
     ]
    }
   ],
   "source": [
    "s = \"{0:e}\".format(123.456)\n",
    "print(s)"
   ]
  },
  {
   "cell_type": "code",
   "execution_count": 9,
   "id": "1a2ff6ef",
   "metadata": {},
   "outputs": [
    {
     "name": "stdout",
     "output_type": "stream",
     "text": [
      "0.14\n"
     ]
    }
   ],
   "source": [
    "s = \"{0:.2f}\".format(1/7)\n",
    "print(s)"
   ]
  },
  {
   "cell_type": "code",
   "execution_count": 10,
   "id": "ffecf25b",
   "metadata": {},
   "outputs": [
    {
     "name": "stdout",
     "output_type": "stream",
     "text": [
      "Uppercase:  5\n",
      "Lowecase:  13\n"
     ]
    }
   ],
   "source": [
    "# Q: Count uppercase and lowercase letters in a string \n",
    "u = 0\n",
    "l = 0\n",
    "s = 'tHe bOys In the gArdeN'\n",
    "\n",
    "for i in s:\n",
    "    if i >= 'a' and i <= 'z':\n",
    "        l = l+1\n",
    "    if i >= 'A' and i <= 'Z':\n",
    "        u = u+1\n",
    "\n",
    "print(\"Uppercase: \", u)\n",
    "print(\"Lowecase: \", l)"
   ]
  },
  {
   "cell_type": "code",
   "execution_count": 11,
   "id": "03772b71",
   "metadata": {},
   "outputs": [
    {
     "name": "stdout",
     "output_type": "stream",
     "text": [
      "Frequency of of is:  1\n",
      "Frequency of five is:  3\n",
      "Frequency of garden is:  1\n",
      "Frequency of the is:  1\n",
      "Frequency of a is:  2\n",
      "Frequency of mango is:  4\n",
      "Frequency of species is:  1\n",
      "Frequency of in is:  5\n"
     ]
    }
   ],
   "source": [
    "# Q. To find frequency of each word in the string\n",
    "# list tuple dict \n",
    "# set = unique words, char, integers \n",
    "def freq(s):\n",
    "    words_list = s.split()\n",
    "    unique_words = set(words_list)\n",
    "    \n",
    "    for word in unique_words:\n",
    "        print(\"Frequency of\", word, \"is: \", words_list.count(word))\n",
    "\n",
    "# unique_words = [a, mango, in , the, of , garden , five]\n",
    "s = \"a mango in the garden of five species mango in a mango mango in five five in in\"\n",
    "freq(s)"
   ]
  },
  {
   "cell_type": "code",
   "execution_count": 12,
   "id": "c43f2ba8",
   "metadata": {},
   "outputs": [
    {
     "name": "stdout",
     "output_type": "stream",
     "text": [
      "[2, 2, 3, 4, 4, 54, 5, 54, 654]\n"
     ]
    }
   ],
   "source": [
    "# Lists \n",
    "\n",
    "l = [2,2,3,4,4,54,5,54,654]\n",
    "print(l)"
   ]
  },
  {
   "cell_type": "code",
   "execution_count": 13,
   "id": "4a863761",
   "metadata": {},
   "outputs": [
    {
     "name": "stdout",
     "output_type": "stream",
     "text": [
      "4\n"
     ]
    }
   ],
   "source": [
    "print(l[3])"
   ]
  },
  {
   "cell_type": "code",
   "execution_count": 14,
   "id": "b2eff6cc",
   "metadata": {},
   "outputs": [
    {
     "name": "stdout",
     "output_type": "stream",
     "text": [
      "54\n"
     ]
    }
   ],
   "source": [
    "print(l[-4])"
   ]
  },
  {
   "cell_type": "code",
   "execution_count": 15,
   "id": "732ab44f",
   "metadata": {},
   "outputs": [
    {
     "name": "stdout",
     "output_type": "stream",
     "text": [
      "['i', 'a', 'm', 'a', 'b', 'o', 'y']\n"
     ]
    }
   ],
   "source": [
    "s = \"iamaboy\"\n",
    "l = list(s)\n",
    "print(l)"
   ]
  },
  {
   "cell_type": "code",
   "execution_count": 16,
   "id": "355e385b",
   "metadata": {},
   "outputs": [
    {
     "name": "stdout",
     "output_type": "stream",
     "text": [
      "[]\n"
     ]
    }
   ],
   "source": [
    "l = []\n",
    "print(l)"
   ]
  },
  {
   "cell_type": "code",
   "execution_count": 17,
   "id": "24a4541f",
   "metadata": {},
   "outputs": [
    {
     "name": "stdout",
     "output_type": "stream",
     "text": [
      "['1', 'hello', 1, 3.4, True]\n"
     ]
    }
   ],
   "source": [
    "l = ['1', 'hello', 1, 3.4, True]\n",
    "print(l)"
   ]
  },
  {
   "cell_type": "code",
   "execution_count": 18,
   "id": "641d824b",
   "metadata": {},
   "outputs": [
    {
     "name": "stdout",
     "output_type": "stream",
     "text": [
      "5\n"
     ]
    }
   ],
   "source": [
    "print(len(l))"
   ]
  },
  {
   "cell_type": "code",
   "execution_count": 19,
   "id": "63e8e89c",
   "metadata": {},
   "outputs": [
    {
     "name": "stdout",
     "output_type": "stream",
     "text": [
      "Enter the listyellow\n",
      "['y', 'e', 'l', 'l', 'o', 'w']\n"
     ]
    }
   ],
   "source": [
    "s = input(\"Enter the list\")\n",
    "l = list(s)\n",
    "\n",
    "print(l)"
   ]
  },
  {
   "cell_type": "code",
   "execution_count": 22,
   "id": "45a09068",
   "metadata": {},
   "outputs": [
    {
     "name": "stdout",
     "output_type": "stream",
     "text": [
      "['1', 'hello', 1, 3.4, True, 0]\n"
     ]
    }
   ],
   "source": [
    "# List is mutable = change is possible \n",
    "# append = last me add \n",
    "l = ['1', 'hello', 1, 3.4, True]\n",
    "# l[5] = 6 ->wrong \n",
    "l.append(0)\n",
    "print(l)"
   ]
  },
  {
   "cell_type": "code",
   "execution_count": 23,
   "id": "92e63e7a",
   "metadata": {},
   "outputs": [
    {
     "name": "stdout",
     "output_type": "stream",
     "text": [
      "['1', 'hello', 1, 3.4, True, 0, 0, 1, 2, 3]\n"
     ]
    }
   ],
   "source": [
    "for i in range(4):\n",
    "    l.append(i)\n",
    "print(l)"
   ]
  },
  {
   "cell_type": "code",
   "execution_count": 24,
   "id": "90a61ce7",
   "metadata": {},
   "outputs": [
    {
     "name": "stdout",
     "output_type": "stream",
     "text": [
      "[5, 'hello', 1, 3.4, True, 0, 0, 1, 2, 3]\n"
     ]
    }
   ],
   "source": [
    "l[0] = 5\n",
    "print(l)"
   ]
  },
  {
   "cell_type": "code",
   "execution_count": 25,
   "id": "80f4c8f3",
   "metadata": {},
   "outputs": [
    {
     "name": "stdout",
     "output_type": "stream",
     "text": [
      "[5, 'hello', 1, 3.4, True, 0, 0, 1, 2, 3, (3, 4, 5, 6, 7, 8)]\n"
     ]
    }
   ],
   "source": [
    "l.append((3,4,5,6,7,8))\n",
    "print(l)"
   ]
  },
  {
   "cell_type": "code",
   "execution_count": 26,
   "id": "d66b95e3",
   "metadata": {},
   "outputs": [
    {
     "name": "stdout",
     "output_type": "stream",
     "text": [
      "[5, 'hello', 1, 3.4, True, 0, 0, 1, 2, 3, (3, 4, 5, 6, 7, 8), [4, 5, 6, 7]]\n"
     ]
    }
   ],
   "source": [
    "# append = add only one thing at a time \n",
    "l.append([4,5,6,7])\n",
    "print(l)"
   ]
  },
  {
   "cell_type": "code",
   "execution_count": 27,
   "id": "2fd41d67",
   "metadata": {},
   "outputs": [
    {
     "name": "stdout",
     "output_type": "stream",
     "text": [
      "[5, 'hello', 1, 3.4, True, 0, 0, 1, 2, 3, (3, 4, 5, 6, 7, 8), [4, 5, 6, 7], {'1': 2, '4': 6}]\n"
     ]
    }
   ],
   "source": [
    "l.append({'1':2, '4' : 6})\n",
    "print(l)"
   ]
  },
  {
   "cell_type": "code",
   "execution_count": 28,
   "id": "1a48ec31",
   "metadata": {},
   "outputs": [
    {
     "name": "stdout",
     "output_type": "stream",
     "text": [
      "[5, 'hello', 1, 'oooo', 3.4, True, 0, 0, 1, 2, 3, (3, 4, 5, 6, 7, 8), [4, 5, 6, 7], {'1': 2, '4': 6}]\n"
     ]
    }
   ],
   "source": [
    "# insert \n",
    "# takes an index and element to append \n",
    "\n",
    "l.insert(3, 'oooo')\n",
    "print(l)"
   ]
  },
  {
   "cell_type": "code",
   "execution_count": 29,
   "id": "b42a4cc8",
   "metadata": {},
   "outputs": [
    {
     "name": "stdout",
     "output_type": "stream",
     "text": [
      "[1, 2, 3, 4, 5, 0, 0, 0, 0]\n"
     ]
    }
   ],
   "source": [
    "# extend \n",
    "l = [1,2,3,4,5]\n",
    "l.extend([0,0,0,0])\n",
    "print(l)"
   ]
  },
  {
   "cell_type": "code",
   "execution_count": 30,
   "id": "25c78fec",
   "metadata": {},
   "outputs": [
    {
     "name": "stdout",
     "output_type": "stream",
     "text": [
      "[1, 2, 3, 4, 5, 0, 0, 0, 0, 9, 9]\n"
     ]
    }
   ],
   "source": [
    "l.extend((9,9))\n",
    "print(l)"
   ]
  },
  {
   "cell_type": "code",
   "execution_count": 31,
   "id": "bde87bc6",
   "metadata": {},
   "outputs": [
    {
     "name": "stdout",
     "output_type": "stream",
     "text": [
      "[9, 9, 0, 0, 0, 0, 5, 4, 3, 2, 1]\n"
     ]
    }
   ],
   "source": [
    "# reverse \n",
    "l.reverse()\n",
    "print(l)"
   ]
  },
  {
   "cell_type": "code",
   "execution_count": 32,
   "id": "a02cda5d",
   "metadata": {},
   "outputs": [
    {
     "name": "stdout",
     "output_type": "stream",
     "text": [
      "[9, 9, 0, 0, 0, 5, 4, 3, 2, 1]\n"
     ]
    }
   ],
   "source": [
    "# remove = element to be deleted = delete its first occurrence \n",
    "l.remove(0)\n",
    "print(l)"
   ]
  },
  {
   "cell_type": "code",
   "execution_count": 33,
   "id": "8b8be2bd",
   "metadata": {},
   "outputs": [
    {
     "name": "stdout",
     "output_type": "stream",
     "text": [
      "[9, 9, 0, 0, 0, 5, 3, 2, 1]\n"
     ]
    }
   ],
   "source": [
    "# pop = index of the element to be removed \n",
    "l.pop(6)\n",
    "print(l)\n"
   ]
  },
  {
   "cell_type": "code",
   "execution_count": 34,
   "id": "8f428228",
   "metadata": {},
   "outputs": [
    {
     "name": "stdout",
     "output_type": "stream",
     "text": [
      "[9, 9, 0, 0, 0, 5, 3, 2]\n"
     ]
    }
   ],
   "source": [
    "l.pop()\n",
    "print(l)"
   ]
  },
  {
   "cell_type": "code",
   "execution_count": null,
   "id": "65b7d9d4",
   "metadata": {},
   "outputs": [],
   "source": [
    "# slicing of lists \n",
    "l = [9, 9, 0, 0, 0, 5, 3, 2]\n",
    "print(l[])"
   ]
  }
 ],
 "metadata": {
  "kernelspec": {
   "display_name": "Python 3 (ipykernel)",
   "language": "python",
   "name": "python3"
  },
  "language_info": {
   "codemirror_mode": {
    "name": "ipython",
    "version": 3
   },
   "file_extension": ".py",
   "mimetype": "text/x-python",
   "name": "python",
   "nbconvert_exporter": "python",
   "pygments_lexer": "ipython3",
   "version": "3.10.4"
  }
 },
 "nbformat": 4,
 "nbformat_minor": 5
}

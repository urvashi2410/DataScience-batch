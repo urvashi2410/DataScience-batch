{
 "cells": [
  {
   "cell_type": "code",
   "execution_count": 6,
   "id": "0560f158",
   "metadata": {},
   "outputs": [
    {
     "name": "stdout",
     "output_type": "stream",
     "text": [
      "[3, 4, 5]\n",
      "[3, 4, 5]\n",
      "[2, 3, 4, 5, 6, 7]\n",
      "[1, 2, 3, 4, 5, 6, 7]\n",
      "[7, 6, 5, 4, 3, 2, 1]\n",
      "[3, 5]\n"
     ]
    }
   ],
   "source": [
    "# lists \n",
    "# slicing of lists \n",
    "\n",
    "l = [1,2,3,4,5,6,7]\n",
    "print(l[2:5])\n",
    "print(l[-5:-2])\n",
    "print(l[1:])\n",
    "print(l[:])\n",
    "print(l[::-1])\n",
    "print(l[2:5:2])"
   ]
  },
  {
   "cell_type": "code",
   "execution_count": 15,
   "id": "fadf43ad",
   "metadata": {},
   "outputs": [
    {
     "name": "stdout",
     "output_type": "stream",
     "text": [
      "[1, 9, 25, 49, 81]\n",
      "1\n",
      "9\n",
      "25\n",
      "49\n",
      "81\n"
     ]
    }
   ],
   "source": [
    "l = [x**2 for x in range(1, 10) if x % 2 == 1]\n",
    "print(l)\n",
    "\n",
    "for i in range(1, 10):\n",
    "    i = i**2\n",
    "    if(i % 2 == 1):\n",
    "        print(i)"
   ]
  },
  {
   "cell_type": "code",
   "execution_count": 42,
   "id": "a349d513",
   "metadata": {},
   "outputs": [
    {
     "name": "stdout",
     "output_type": "stream",
     "text": [
      "[]\n"
     ]
    }
   ],
   "source": [
    "l.clear()\n",
    "print(l)\n",
    "# removes all the elements "
   ]
  },
  {
   "cell_type": "code",
   "execution_count": 17,
   "id": "a68ab521",
   "metadata": {},
   "outputs": [
    {
     "name": "stdout",
     "output_type": "stream",
     "text": [
      "[1, 9, 25, 49, 81]\n"
     ]
    },
    {
     "data": {
      "text/plain": [
       "1"
      ]
     },
     "execution_count": 17,
     "metadata": {},
     "output_type": "execute_result"
    }
   ],
   "source": [
    "print(l)\n",
    "l.count(1)\n"
   ]
  },
  {
   "cell_type": "code",
   "execution_count": 18,
   "id": "9b2d8b21",
   "metadata": {},
   "outputs": [
    {
     "name": "stdout",
     "output_type": "stream",
     "text": [
      "[1, 2, 3, 4, 5, 9]\n"
     ]
    }
   ],
   "source": [
    "l = [9,4,3,5,2,1]\n",
    "l.sort()\n",
    "print(l)"
   ]
  },
  {
   "cell_type": "code",
   "execution_count": 22,
   "id": "26ae647c",
   "metadata": {},
   "outputs": [
    {
     "name": "stdout",
     "output_type": "stream",
     "text": [
      "[9, 5, 4, 3, 2, 1]\n"
     ]
    }
   ],
   "source": [
    "l.sort(reverse=True)\n",
    "print(l)"
   ]
  },
  {
   "cell_type": "code",
   "execution_count": 23,
   "id": "ecd41690",
   "metadata": {},
   "outputs": [
    {
     "name": "stdout",
     "output_type": "stream",
     "text": [
      "[9, 5, 4, 3, 2, 1]\n"
     ]
    }
   ],
   "source": [
    "d = l.copy()\n",
    "print(d)"
   ]
  },
  {
   "cell_type": "code",
   "execution_count": 26,
   "id": "d3961dbe",
   "metadata": {},
   "outputs": [
    {
     "name": "stdout",
     "output_type": "stream",
     "text": [
      "1\n",
      "9\n",
      "24\n"
     ]
    }
   ],
   "source": [
    "print(min(l))\n",
    "print(max(l))\n",
    "print(sum(l))"
   ]
  },
  {
   "cell_type": "code",
   "execution_count": 38,
   "id": "e1702196",
   "metadata": {},
   "outputs": [
    {
     "name": "stdout",
     "output_type": "stream",
     "text": [
      "1\n",
      "(2, 3, 4, 5)\n"
     ]
    },
    {
     "ename": "TypeError",
     "evalue": "'tuple' object does not support item assignment",
     "output_type": "error",
     "traceback": [
      "\u001b[1;31m---------------------------------------------------------------------------\u001b[0m",
      "\u001b[1;31mTypeError\u001b[0m                                 Traceback (most recent call last)",
      "\u001b[1;32mC:\\Users\\URVASH~1\\AppData\\Local\\Temp/ipykernel_18628/3671165903.py\u001b[0m in \u001b[0;36m<module>\u001b[1;34m\u001b[0m\n\u001b[0;32m      5\u001b[0m \u001b[0mprint\u001b[0m\u001b[1;33m(\u001b[0m\u001b[0mt\u001b[0m\u001b[1;33m[\u001b[0m\u001b[1;36m0\u001b[0m\u001b[1;33m]\u001b[0m\u001b[1;33m)\u001b[0m \u001b[1;31m# access\u001b[0m\u001b[1;33m\u001b[0m\u001b[1;33m\u001b[0m\u001b[0m\n\u001b[0;32m      6\u001b[0m \u001b[0mprint\u001b[0m\u001b[1;33m(\u001b[0m\u001b[0mt\u001b[0m\u001b[1;33m[\u001b[0m\u001b[1;36m1\u001b[0m\u001b[1;33m:\u001b[0m\u001b[1;33m]\u001b[0m\u001b[1;33m)\u001b[0m \u001b[1;31m#slicing\u001b[0m\u001b[1;33m\u001b[0m\u001b[1;33m\u001b[0m\u001b[0m\n\u001b[1;32m----> 7\u001b[1;33m \u001b[0mt\u001b[0m\u001b[1;33m[\u001b[0m\u001b[1;36m2\u001b[0m\u001b[1;33m]\u001b[0m \u001b[1;33m=\u001b[0m \u001b[1;36m5\u001b[0m\u001b[1;33m\u001b[0m\u001b[1;33m\u001b[0m\u001b[0m\n\u001b[0m\u001b[0;32m      8\u001b[0m \u001b[1;31m# tuple doesn't have remove, pop\u001b[0m\u001b[1;33m\u001b[0m\u001b[1;33m\u001b[0m\u001b[0m\n\u001b[0;32m      9\u001b[0m \u001b[1;31m# tuple doesn't insert, extend, append\u001b[0m\u001b[1;33m\u001b[0m\u001b[1;33m\u001b[0m\u001b[0m\n",
      "\u001b[1;31mTypeError\u001b[0m: 'tuple' object does not support item assignment"
     ]
    }
   ],
   "source": [
    "t = (1,2,3,4,5)\n",
    "# list was mutable = change is acceptable \n",
    "# tuple is immutable = change nhi ho skta \n",
    "\n",
    "print(t[0]) # access\n",
    "print(t[1:]) #slicing \n",
    "t[2] = 5\n",
    "# tuple doesn't have remove, pop \n",
    "# tuple doesn't insert, extend, append \n",
    "\n",
    "t2 = (0,0,0)\n",
    "print(t + t2)\n",
    "t3 = (t, t2)\n",
    "print(t3)"
   ]
  },
  {
   "cell_type": "code",
   "execution_count": 36,
   "id": "5bdb8e93",
   "metadata": {},
   "outputs": [
    {
     "name": "stdout",
     "output_type": "stream",
     "text": [
      "0\n",
      "9\n",
      "9\n",
      "0\n"
     ]
    }
   ],
   "source": [
    "l = [1,2,3,[0,0], [8,9,6]]\n",
    "print(l[3][1])\n",
    "print(l[4][1])\n",
    "print(l[-1][-2])\n",
    "print(l[-2][-1])"
   ]
  },
  {
   "cell_type": "code",
   "execution_count": 50,
   "id": "3723a076",
   "metadata": {},
   "outputs": [
    {
     "name": "stdout",
     "output_type": "stream",
     "text": [
      "('yes', 'yes', 'yes')\n"
     ]
    }
   ],
   "source": [
    "# * = repitition \n",
    "t = ('yes',)*3\n",
    "print(t)"
   ]
  },
  {
   "cell_type": "code",
   "execution_count": 51,
   "id": "0f487719",
   "metadata": {},
   "outputs": [],
   "source": [
    "# remove pop\n",
    "# t.clear() = no such function \n",
    "# del t\n",
    "# print(t)"
   ]
  },
  {
   "cell_type": "code",
   "execution_count": 52,
   "id": "0f1da9e4",
   "metadata": {},
   "outputs": [
    {
     "name": "stdout",
     "output_type": "stream",
     "text": [
      "3\n"
     ]
    }
   ],
   "source": [
    "print(len(t))"
   ]
  },
  {
   "cell_type": "code",
   "execution_count": 55,
   "id": "bb6bd103",
   "metadata": {},
   "outputs": [
    {
     "name": "stdout",
     "output_type": "stream",
     "text": [
      "(1, 2, 3, 4, 5)\n",
      "('y', 'e', 's')\n"
     ]
    }
   ],
   "source": [
    "l = [1,2,3,4,5]\n",
    "s = \"yes\"\n",
    "# l = list(s)\n",
    "# print(l)\n",
    "print(tuple(l))\n",
    "print(tuple(s))"
   ]
  },
  {
   "cell_type": "code",
   "execution_count": 56,
   "id": "78c081f4",
   "metadata": {},
   "outputs": [],
   "source": [
    "# for loop tuple \n",
    "t = (1,2,3,4,5)"
   ]
  },
  {
   "cell_type": "code",
   "execution_count": 57,
   "id": "201d3047",
   "metadata": {},
   "outputs": [
    {
     "name": "stdout",
     "output_type": "stream",
     "text": [
      "True\n"
     ]
    }
   ],
   "source": [
    "# dictionary \n",
    "d = {\n",
    "    '1' : 3,\n",
    "    'yes' : True,\n",
    "    '0' : 6.7,\n",
    "    'pop' : 'io',\n",
    "}\n",
    "# key value \n",
    "# key = index \n",
    "print(d['yes'])"
   ]
  },
  {
   "cell_type": "code",
   "execution_count": 61,
   "id": "e7aa44f3",
   "metadata": {},
   "outputs": [
    {
     "name": "stdout",
     "output_type": "stream",
     "text": [
      "{'1': 6, '9': 0}\n"
     ]
    }
   ],
   "source": [
    "# s = \"yes\"\n",
    "# d = dict([('1', 6), ('9', 0)])\n",
    "# print(d)"
   ]
  },
  {
   "cell_type": "code",
   "execution_count": 63,
   "id": "a4777685",
   "metadata": {},
   "outputs": [
    {
     "name": "stdout",
     "output_type": "stream",
     "text": [
      "dict_items([('1', 6), ('9', 0)])\n",
      "dict_keys(['1', '9'])\n",
      "dict_values([6, 0])\n"
     ]
    }
   ],
   "source": [
    "print(d.items())\n",
    "print(d.keys())\n",
    "print(d.values())"
   ]
  },
  {
   "cell_type": "code",
   "execution_count": 74,
   "id": "6da91d16",
   "metadata": {},
   "outputs": [
    {
     "name": "stdout",
     "output_type": "stream",
     "text": [
      "{'yes': 'p'}\n",
      "{'yes': 'o'}\n"
     ]
    }
   ],
   "source": [
    "d['yes'] = 'p'\n",
    "print(d)\n",
    "d['yes'] = 'o'\n",
    "print(d)"
   ]
  },
  {
   "cell_type": "code",
   "execution_count": 75,
   "id": "338ddefe",
   "metadata": {},
   "outputs": [
    {
     "name": "stdout",
     "output_type": "stream",
     "text": [
      "o\n"
     ]
    }
   ],
   "source": [
    "print(d.get('yes'))"
   ]
  },
  {
   "cell_type": "code",
   "execution_count": 76,
   "id": "b1cf250c",
   "metadata": {},
   "outputs": [
    {
     "name": "stdout",
     "output_type": "stream",
     "text": [
      "{'yes': 'o'}\n"
     ]
    }
   ],
   "source": [
    "# d.clear();\n",
    "print(d)"
   ]
  },
  {
   "cell_type": "code",
   "execution_count": 79,
   "id": "8c65b3f3",
   "metadata": {},
   "outputs": [
    {
     "name": "stdout",
     "output_type": "stream",
     "text": [
      "{'yes': 9, '5': 0}\n"
     ]
    }
   ],
   "source": [
    "d.update({'5': 0})\n",
    "d.update({'yes' : 9})\n",
    "print(d)"
   ]
  },
  {
   "cell_type": "code",
   "execution_count": 81,
   "id": "23c865f7",
   "metadata": {},
   "outputs": [
    {
     "name": "stdout",
     "output_type": "stream",
     "text": [
      "{'5': 0}\n"
     ]
    }
   ],
   "source": [
    "d.pop('yes')\n",
    "print(d)"
   ]
  },
  {
   "cell_type": "code",
   "execution_count": 82,
   "id": "6840f279",
   "metadata": {},
   "outputs": [
    {
     "name": "stdout",
     "output_type": "stream",
     "text": [
      "{'1': 3, 'yes': True, '0': 6.7}\n"
     ]
    }
   ],
   "source": [
    "d = {\n",
    "    '1' : 3,\n",
    "    'yes' : True,\n",
    "    '0' : 6.7,\n",
    "    'pop' : 'io',\n",
    "}\n",
    "d.popitem()\n",
    "print(d)"
   ]
  },
  {
   "cell_type": "code",
   "execution_count": 83,
   "id": "39127ca3",
   "metadata": {},
   "outputs": [
    {
     "name": "stdout",
     "output_type": "stream",
     "text": [
      "{'1': 3, 'yes': True, '0': 6.7}\n"
     ]
    }
   ],
   "source": [
    "d2 = d.copy()\n",
    "print(d2)"
   ]
  },
  {
   "cell_type": "code",
   "execution_count": null,
   "id": "284cedb1",
   "metadata": {},
   "outputs": [],
   "source": []
  }
 ],
 "metadata": {
  "kernelspec": {
   "display_name": "Python 3 (ipykernel)",
   "language": "python",
   "name": "python3"
  },
  "language_info": {
   "codemirror_mode": {
    "name": "ipython",
    "version": 3
   },
   "file_extension": ".py",
   "mimetype": "text/x-python",
   "name": "python",
   "nbconvert_exporter": "python",
   "pygments_lexer": "ipython3",
   "version": "3.10.4"
  }
 },
 "nbformat": 4,
 "nbformat_minor": 5
}

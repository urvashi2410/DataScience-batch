{
 "cells": [
  {
   "cell_type": "code",
   "execution_count": null,
   "id": "231d8e86",
   "metadata": {},
   "outputs": [],
   "source": [
    "# parameters \n",
    "def myfunction():\n",
    "    x = 10\n",
    "    print(x)\n",
    "\n",
    "# print(\"hello\", \"tiya\")\n",
    "# print(\"hello\", \"chirag\")\n",
    "# function defination \n",
    "# def greeting(name):\n",
    "#     print(\"hello\", name)\n",
    "    \n",
    "# function calling \n",
    "# arguments \n",
    "# greeting(\"mayank\")\n",
    "\n",
    "myfunction()"
   ]
  },
  {
   "cell_type": "code",
   "execution_count": null,
   "id": "02d3623f",
   "metadata": {},
   "outputs": [],
   "source": [
    "# python hoisting \n",
    "\n",
    "def myfunc():\n",
    "    x = 10\n",
    "    def func2():\n",
    "        print(x)\n",
    "    func2()\n",
    "\n",
    "print(x)\n",
    "myfunc()"
   ]
  },
  {
   "cell_type": "code",
   "execution_count": null,
   "id": "3c433d28",
   "metadata": {},
   "outputs": [],
   "source": [
    "# global \n",
    "x = 10\n",
    "\n",
    "def myfunc():\n",
    "    print(x)\n",
    "\n",
    "myfunc()\n",
    "\n",
    "# print(x)"
   ]
  },
  {
   "cell_type": "code",
   "execution_count": null,
   "id": "5bada5cf",
   "metadata": {},
   "outputs": [],
   "source": [
    "x = 10\n",
    "\n",
    "def myfunc():\n",
    "    x = 5\n",
    "    print(x)\n",
    "\n",
    "myfunc()\n",
    "\n",
    "print(x)"
   ]
  },
  {
   "cell_type": "code",
   "execution_count": null,
   "id": "3779322a",
   "metadata": {},
   "outputs": [],
   "source": [
    "x = 10\n",
    "\n",
    "def myfunc():\n",
    "    global x\n",
    "    x = 5\n",
    "    print(x)\n",
    "    \n",
    "myfunc()\n",
    "print(x)"
   ]
  },
  {
   "cell_type": "code",
   "execution_count": null,
   "id": "de73a281",
   "metadata": {},
   "outputs": [],
   "source": [
    "s = \"chirag\"\n",
    "def countVowel():\n",
    "    vowels = \"aeiouAEIOU\"\n",
    "    count = 0\n",
    "    for i in s:\n",
    "        if i in vowels:\n",
    "            count += 1\n",
    "#     return provide the value outside the for loop \n",
    "    return count \n",
    "            \n",
    "# print(count)   \n",
    "c = countVowel()\n",
    "print(c)"
   ]
  },
  {
   "cell_type": "code",
   "execution_count": null,
   "id": "7ca82712",
   "metadata": {},
   "outputs": [],
   "source": [
    "# +, -, /, *, % \n",
    "\n",
    "def evenOdd(x):\n",
    "    if x%2 == 0:\n",
    "        print(\"even\")\n",
    "    else:\n",
    "        print(\"odd\")\n",
    "\n",
    "evenOdd(3)\n",
    "evenOdd(4)"
   ]
  },
  {
   "cell_type": "code",
   "execution_count": null,
   "id": "6cb1affa",
   "metadata": {},
   "outputs": [],
   "source": [
    "# default parameters \n",
    "def myfunc(x=3, y=9):\n",
    "    print(x+y)\n",
    "    \n",
    "myfunc(4)"
   ]
  },
  {
   "cell_type": "code",
   "execution_count": 2,
   "id": "0db653aa",
   "metadata": {},
   "outputs": [
    {
     "name": "stdout",
     "output_type": "stream",
     "text": [
      "anand chirag\n"
     ]
    }
   ],
   "source": [
    "# keyword arguments \n",
    "def myfunc(f, l):\n",
    "    print(f, l)\n",
    "    \n",
    "myfunc(l=\"chirag\", f=\"anand\")"
   ]
  },
  {
   "cell_type": "code",
   "execution_count": 5,
   "id": "4c826bac",
   "metadata": {},
   "outputs": [
    {
     "name": "stdout",
     "output_type": "stream",
     "text": [
      "2\n",
      "3\n",
      "4\n",
      "5\n",
      "6\n",
      "7\n",
      "8\n"
     ]
    }
   ],
   "source": [
    "# variable length arguments \n",
    "# 1. *args = non keyword argument\n",
    "# 2. **kwargs = keyword argument\n",
    "# args = [2, 3, 4, 5, 6, 7, 8]\n",
    "\n",
    "# args = list \n",
    "def myfunc(*args):\n",
    "    for i in args:\n",
    "        print(i)\n",
    "    \n",
    "myfunc(2, 3, 4, 5, 6, 7, 8)"
   ]
  },
  {
   "cell_type": "code",
   "execution_count": 8,
   "id": "8f72aa8e",
   "metadata": {},
   "outputs": [
    {
     "name": "stdout",
     "output_type": "stream",
     "text": [
      "a 1\n",
      "b 2\n",
      "c 3\n",
      "d 5\n",
      "e 0\n",
      "\n",
      "a\n",
      "b\n",
      "c\n",
      "d\n",
      "e\n",
      "\n",
      "1\n",
      "2\n",
      "3\n",
      "5\n",
      "0\n",
      "\n"
     ]
    }
   ],
   "source": [
    "def myfunc(**kwargs):\n",
    "    for i, j in kwargs.items():\n",
    "        print(i, j)\n",
    "    print()\n",
    "    \n",
    "    for i in kwargs.keys():\n",
    "        print(i)\n",
    "        \n",
    "    print()\n",
    "    \n",
    "    for i in kwargs.values():\n",
    "        print(i)\n",
    "        \n",
    "    print()\n",
    "    \n",
    "\n",
    "\n",
    "# dictionary \n",
    "# d = {\n",
    "#     'a' : 1, \n",
    "#     'b' : 2,\n",
    "#     'c' : 3, \n",
    "#     'd' : 5, \n",
    "#     'e' : 0\n",
    "# }\n",
    "\n",
    "# for i, j in d.items():\n",
    "#     print(i, j)\n",
    "    \n",
    "    \n",
    "myfunc(a = 1, b = 2, c = 3, d = 5, e = 0)"
   ]
  },
  {
   "cell_type": "code",
   "execution_count": null,
   "id": "f90e3601",
   "metadata": {},
   "outputs": [],
   "source": [
    "# homework \n",
    "# factorial = 5! = 120 \n",
    "\n",
    "# 5! = 5*4*3*2*1\n",
    "# # n \n",
    "# fact = 1\n",
    "# for i in range(1, n+1):\n",
    "#     fact *= i\n",
    "# return fact \n",
    "\n",
    "# fibonacci series \n",
    "# 0 1 1 2 3 5 .... \n",
    "# a = 0\n",
    "# b = 1 \n",
    "# def func(c):\n",
    "#     c = a+b\n",
    "#     a = b\n",
    "#     b = c\n",
    "\n",
    "# menu driven program \n",
    "# while True:\n",
    "# #     option = 1, 2\n",
    "# if option == 1:\n",
    "#     ffact\n",
    "# elif option == 2:\n",
    "#     fibonacci()\n",
    "# else:\n",
    "#     break \n",
    "    "
   ]
  }
 ],
 "metadata": {
  "kernelspec": {
   "display_name": "Python 3 (ipykernel)",
   "language": "python",
   "name": "python3"
  },
  "language_info": {
   "codemirror_mode": {
    "name": "ipython",
    "version": 3
   },
   "file_extension": ".py",
   "mimetype": "text/x-python",
   "name": "python",
   "nbconvert_exporter": "python",
   "pygments_lexer": "ipython3",
   "version": "3.10.4"
  }
 },
 "nbformat": 4,
 "nbformat_minor": 5
}

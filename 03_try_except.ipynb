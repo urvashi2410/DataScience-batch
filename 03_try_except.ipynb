{
 "cells": [
  {
   "cell_type": "code",
   "execution_count": null,
   "id": "b0f59cc0",
   "metadata": {},
   "outputs": [],
   "source": [
    "# x = 4 \n",
    "try:\n",
    "    print(x)\n",
    "# except NameError:\n",
    "#     print(\"x is not declared\")\n",
    "finally:\n",
    "    print('The try except is finished ')"
   ]
  },
  {
   "cell_type": "code",
   "execution_count": null,
   "id": "8b898209",
   "metadata": {},
   "outputs": [],
   "source": [
    "try:\n",
    "    print(x)\n",
    "except NameError:\n",
    "    print(\"x is not declared\")\n",
    "finally:\n",
    "    print('The try except is finished ')"
   ]
  },
  {
   "cell_type": "code",
   "execution_count": null,
   "id": "ccb0ac20",
   "metadata": {},
   "outputs": [],
   "source": [
    "x = -1\n",
    "if x < 0:\n",
    "    raise Exception(\"yes, x is less than 0\")"
   ]
  },
  {
   "cell_type": "code",
   "execution_count": null,
   "id": "8ab32c2b",
   "metadata": {},
   "outputs": [],
   "source": [
    "x = 'hello'\n",
    "\n",
    "if not type(x) is int:\n",
    "    raise TypeError(\"Only integers are allowed\")"
   ]
  },
  {
   "cell_type": "code",
   "execution_count": null,
   "id": "501b513e",
   "metadata": {},
   "outputs": [],
   "source": [
    "try:\n",
    "    k = 5//0\n",
    "    print(k)\n",
    "except ZeroDivisionError:\n",
    "    print(\"Can't be divible by 0\")\n",
    "finally:\n",
    "    print(\"This is always executed\")\n"
   ]
  },
  {
   "cell_type": "code",
   "execution_count": null,
   "id": "72e5f4ef",
   "metadata": {},
   "outputs": [
    {
     "name": "stdout",
     "output_type": "stream",
     "text": [
      "Enter a value2\n",
      "Enter a value3\n",
      "Enter a value4.5\n",
      "Value is not valid\n",
      "Enter a valueriya\n",
      "Value is not valid\n"
     ]
    }
   ],
   "source": [
    "while True:\n",
    "    try:\n",
    "        a = int(input(\"Enter a value\"))\n",
    "        break\n",
    "    except ValueError:\n",
    "        print(\"Value is not valid\")"
   ]
  },
  {
   "cell_type": "code",
   "execution_count": 27,
   "id": "b66bbaed",
   "metadata": {},
   "outputs": [
    {
     "name": "stdout",
     "output_type": "stream",
     "text": [
      "2\n",
      "4\n"
     ]
    }
   ],
   "source": [
    "import random as r\n",
    "# 5*(0, 1) = (0, 5)\n",
    "# print(5*r.random())\n",
    "print(r.randint(1,10))\n",
    "print(r.randrange(1,10))"
   ]
  },
  {
   "cell_type": "code",
   "execution_count": 34,
   "id": "d6475558",
   "metadata": {},
   "outputs": [
    {
     "name": "stdout",
     "output_type": "stream",
     "text": [
      "6\n"
     ]
    }
   ],
   "source": [
    "l = [1,2,3,4,4,6,7]\n",
    "\n",
    "choice = r.choice(l)\n",
    "print(choice)"
   ]
  },
  {
   "cell_type": "code",
   "execution_count": 44,
   "id": "28197a0c",
   "metadata": {},
   "outputs": [
    {
     "name": "stdout",
     "output_type": "stream",
     "text": [
      "hello world 4 , riya 0.0.\n"
     ]
    }
   ],
   "source": [
    "# fstring \n",
    "x = 4\n",
    "y = 0.0\n",
    "# print(\"hello\", 'world', '\\n')\n",
    "# print(\"hello\", 'world', '\\n')\n",
    "# print(\"hello\" + \" \" + \"world\" + x)\n",
    "print(f\"hello world {x} , riya {y}.\")"
   ]
  },
  {
   "cell_type": "code",
   "execution_count": 45,
   "id": "1cad39e6",
   "metadata": {},
   "outputs": [
    {
     "name": "stdout",
     "output_type": "stream",
     "text": [
      "Enter a choice(rock, paper, scissors): rock\n",
      "\n",
      " You chose rock, computer chose scissors\n",
      "\n",
      "Rock smashes scissors! you win\n",
      "Want to play again? (y/n): y\n",
      "Enter a choice(rock, paper, scissors): scissors\n",
      "\n",
      " You chose scissors, computer chose paper\n",
      "\n",
      "Scissors smashes paper! You win\n",
      "Want to play again? (y/n): paper\n"
     ]
    }
   ],
   "source": [
    "# Rock paper scissors game\n",
    "\n"
   ]
  },
  {
   "cell_type": "code",
   "execution_count": null,
   "id": "10e03ef8",
   "metadata": {},
   "outputs": [],
   "source": []
  }
 ],
 "metadata": {
  "kernelspec": {
   "display_name": "Python 3 (ipykernel)",
   "language": "python",
   "name": "python3"
  },
  "language_info": {
   "codemirror_mode": {
    "name": "ipython",
    "version": 3
   },
   "file_extension": ".py",
   "mimetype": "text/x-python",
   "name": "python",
   "nbconvert_exporter": "python",
   "pygments_lexer": "ipython3",
   "version": "3.10.4"
  }
 },
 "nbformat": 4,
 "nbformat_minor": 5
}

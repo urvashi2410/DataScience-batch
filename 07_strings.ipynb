{
 "cells": [
  {
   "cell_type": "code",
   "execution_count": null,
   "id": "bb8dc00d",
   "metadata": {},
   "outputs": [],
   "source": [
    "# pass by value \n",
    "# pass by reference \n",
    "\n",
    "# pass by reference by default python me \n",
    "def myfun(l):\n",
    "    l[2] = 15\n",
    "    print(l)\n",
    "    \n",
    "l = [1, 2, 3, 4, 5, 6, 7, 8]\n",
    "myfun(l)\n",
    "print(l)"
   ]
  },
  {
   "cell_type": "code",
   "execution_count": null,
   "id": "cd1f86b5",
   "metadata": {},
   "outputs": [],
   "source": [
    "def myfun(x):\n",
    "    r = [0, 2, 3]\n",
    "    x = r\n",
    "    x[2] = 0\n",
    "    print(x)\n",
    "\n",
    "    \n",
    "l = [1, 2, 3, 4, 5, 6, 7, 8]\n",
    "myfun(l)\n",
    "print(l) \n",
    "# print(x)"
   ]
  },
  {
   "cell_type": "code",
   "execution_count": null,
   "id": "02b5bfee",
   "metadata": {},
   "outputs": [],
   "source": [
    "# variable = pass by value \n",
    "# list = pass by reference \n",
    "def myfun(x):\n",
    "    x = 3\n",
    "    print(x)\n",
    "\n",
    "x = 5\n",
    "myfun(x)\n",
    "print(x)"
   ]
  },
  {
   "cell_type": "code",
   "execution_count": null,
   "id": "866eefa4",
   "metadata": {},
   "outputs": [],
   "source": [
    "# pass by value to no change \n",
    "def swap(a, b):\n",
    "    c = a\n",
    "    a = b\n",
    "    b = c\n",
    "\n",
    "a = 4\n",
    "b = 5 \n",
    "print(a, b)\n",
    "swap(a, b)\n",
    "print(a, b)"
   ]
  },
  {
   "cell_type": "code",
   "execution_count": null,
   "id": "1e45720a",
   "metadata": {},
   "outputs": [],
   "source": [
    "def swap(*a, *b):\n",
    "    c = *a\n",
    "    *a = *b\n",
    "    *b = *c\n",
    "    \n",
    "a = 4\n",
    "b = 5 \n",
    "print(a, b)\n",
    "swap(&a, &b)\n",
    "print(a, b)"
   ]
  },
  {
   "cell_type": "code",
   "execution_count": null,
   "id": "07caaa38",
   "metadata": {},
   "outputs": [],
   "source": [
    "# strings  = combination of chars \n",
    "s = 'yellow'\n",
    "# for i in range(0, len(s)):\n",
    "#     pass\n",
    "# print(i)\n",
    "l = len(s)\n",
    "print(s[l-1])\n",
    "print(s[-1])\n",
    "print(s[0])"
   ]
  },
  {
   "cell_type": "code",
   "execution_count": null,
   "id": "d0bc8327",
   "metadata": {},
   "outputs": [],
   "source": [
    "s = 'iamaboy'\n",
    "l = len(s)\n",
    "# O(l) \n",
    "for i in range(l-1, 0, -1):\n",
    "    print(s[i], end=\"\")\n",
    "print(s[0], end=\"\")"
   ]
  },
  {
   "cell_type": "code",
   "execution_count": 3,
   "id": "54a1488a",
   "metadata": {},
   "outputs": [
    {
     "name": "stdout",
     "output_type": "stream",
     "text": [
      "iamaboy\n",
      "oba\n",
      "amab\n",
      "aao\n"
     ]
    }
   ],
   "source": [
    "# string slicing \n",
    "# reverse the string \n",
    "\n",
    "# O(1)\n",
    "print(s[::-1])\n",
    "\n",
    "print(s[1:4])\n",
    "\n",
    "print(s[5:1:-1])\n",
    "\n",
    "print(s[5:0:-2])"
   ]
  },
  {
   "cell_type": "code",
   "execution_count": 2,
   "id": "a8e73cf4",
   "metadata": {},
   "outputs": [
    {
     "name": "stdout",
     "output_type": "stream",
     "text": [
      "yobamai\n"
     ]
    }
   ],
   "source": [
    "s = \"iamaboy\"\n",
    "\n",
    "s = \"\".join(reversed(s))\n",
    "print(s)"
   ]
  },
  {
   "cell_type": "code",
   "execution_count": 7,
   "id": "265568c7",
   "metadata": {},
   "outputs": [
    {
     "name": "stdout",
     "output_type": "stream",
     "text": [
      "['y', 'o', 'b', 'a', 'm', 'a', 'i']\n",
      "['y', 'o', 'b', 'o', 'm', 'a', 'i']\n",
      "yobomai\n"
     ]
    }
   ],
   "source": [
    "l = list(s)\n",
    "print(l)\n",
    "l[3] = 'o'\n",
    "print(l)\n",
    "s2 = \"\".join(l)\n",
    "print(s2)"
   ]
  },
  {
   "cell_type": "code",
   "execution_count": 9,
   "id": "2076c1d5",
   "metadata": {},
   "outputs": [
    {
     "name": "stdout",
     "output_type": "stream",
     "text": [
      "yel45pru\n"
     ]
    }
   ],
   "source": [
    "s1 = 'yellow'\n",
    "s2 = 'purple'\n",
    "# s3 = yel45pru\n",
    "s3 = s1[:3] + '45' + s2[3:0:-1]\n",
    "print(s3)"
   ]
  },
  {
   "cell_type": "code",
   "execution_count": 20,
   "id": "2b5a4033",
   "metadata": {},
   "outputs": [
    {
     "name": "stdout",
     "output_type": "stream",
     "text": [
      "I\n",
      "maboy\n"
     ]
    }
   ],
   "source": [
    "s = '''I\\nmaboy'''\n",
    "print(s)"
   ]
  },
  {
   "cell_type": "code",
   "execution_count": null,
   "id": "0b6091d7",
   "metadata": {},
   "outputs": [],
   "source": []
  }
 ],
 "metadata": {
  "kernelspec": {
   "display_name": "Python 3 (ipykernel)",
   "language": "python",
   "name": "python3"
  },
  "language_info": {
   "codemirror_mode": {
    "name": "ipython",
    "version": 3
   },
   "file_extension": ".py",
   "mimetype": "text/x-python",
   "name": "python",
   "nbconvert_exporter": "python",
   "pygments_lexer": "ipython3",
   "version": "3.10.4"
  }
 },
 "nbformat": 4,
 "nbformat_minor": 5
}

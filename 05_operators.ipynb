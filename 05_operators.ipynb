{
 "cells": [
  {
   "cell_type": "code",
   "execution_count": null,
   "id": "e54b5b02",
   "metadata": {},
   "outputs": [],
   "source": [
    "def fact():\n",
    "    n = int(input(\"Enter your number\"))\n",
    "    f = 1\n",
    "    for i in range(1, n+1):\n",
    "        f *= i\n",
    "    print(f)\n",
    "    print('\\n\\n')\n",
    "\n",
    "# 0, 1, 2, 3, 4, 5\n",
    "# 0 1 1 2 3 5 \n",
    "def fibonacci():\n",
    "    n = int(input(\"enter the index of the fibonacci series: \"))\n",
    "    a = 0\n",
    "    b = 1\n",
    "    print(a, end=\" \")\n",
    "    print(b, end=\" \")\n",
    "#         2 3 4 \n",
    "    for i in range(2, n):\n",
    "        c = a + b\n",
    "        a = b\n",
    "        b = c\n",
    "        print(c, end=\" \")\n",
    "    print('\\n\\n')\n",
    "\n",
    "while True:\n",
    "    print(\"1 : factorial \")\n",
    "    print(\"2: fibonacci\")\n",
    "    choice = input(\"enter your choice: \")\n",
    "    if choice == '1':\n",
    "        fact()\n",
    "    elif choice == '2':\n",
    "        fibonacci()\n",
    "    else:\n",
    "        print(\"You quit\")\n",
    "        break\n",
    "print(\"End of the loop\")\n",
    "    "
   ]
  },
  {
   "cell_type": "code",
   "execution_count": 6,
   "id": "4430ec7e",
   "metadata": {},
   "outputs": [
    {
     "name": "stdout",
     "output_type": "stream",
     "text": [
      "Enter a number7\n",
      "It is prime\n"
     ]
    }
   ],
   "source": [
    "# prime number \n",
    "n = int(input(\"Enter a number\"))\n",
    "# ye number kisi or se divisible nhi h \n",
    "flag = False \n",
    "for i in range(2, n):\n",
    "    if n%i == 0:\n",
    "        flag = True \n",
    "        break\n",
    "\n",
    "if flag == True:\n",
    "    print(\"It is composite\")\n",
    "else:   \n",
    "    print(\"It is prime\")"
   ]
  },
  {
   "cell_type": "code",
   "execution_count": 10,
   "id": "831185ca",
   "metadata": {},
   "outputs": [
    {
     "name": "stdout",
     "output_type": "stream",
     "text": [
      "8\n",
      "17.5\n",
      "17\n"
     ]
    }
   ],
   "source": [
    "# Operators \n",
    "# 1. Arithematic = +, -, *, /, %, **, //\n",
    "# power \n",
    "print(2**3)\n",
    "print(35/2)\n",
    "# integer division \n",
    "print(35//2)"
   ]
  },
  {
   "cell_type": "code",
   "execution_count": 13,
   "id": "aa80b922",
   "metadata": {},
   "outputs": [
    {
     "name": "stdout",
     "output_type": "stream",
     "text": [
      "True\n",
      "False\n"
     ]
    }
   ],
   "source": [
    "# 2. Relational Operators = '>=', '<=', '==', '<', '>' '!=' \n",
    "print(2 > 1)\n",
    "print(1 != 1)"
   ]
  },
  {
   "cell_type": "code",
   "execution_count": 17,
   "id": "e0e987b0",
   "metadata": {},
   "outputs": [
    {
     "name": "stdout",
     "output_type": "stream",
     "text": [
      "False\n",
      "True\n",
      "True\n"
     ]
    }
   ],
   "source": [
    "# 3. logical operators \n",
    "a = False\n",
    "b = True\n",
    "print(a and b)\n",
    "print(a or b)\n",
    "print(not a)"
   ]
  },
  {
   "cell_type": "code",
   "execution_count": 26,
   "id": "e0c3545d",
   "metadata": {},
   "outputs": [
    {
     "name": "stdout",
     "output_type": "stream",
     "text": [
      "0\n",
      "14\n",
      "-11\n",
      "-5\n",
      "14\n",
      "20\n",
      "16\n",
      "5\n",
      "1\n"
     ]
    }
   ],
   "source": [
    "# bitwise operators = '&', '|', '~', '^', '>>', '<<'\n",
    "\n",
    "a = 10\n",
    "b = 4 \n",
    "print(a&b)\n",
    "print(a|b)\n",
    "print(~a)\n",
    "print(~b)\n",
    "print(a^b)\n",
    "print(a<<1)\n",
    "print(b<<2)\n",
    "print(a>>1)\n",
    "print(b>>2)"
   ]
  },
  {
   "cell_type": "code",
   "execution_count": null,
   "id": "ce5499b6",
   "metadata": {},
   "outputs": [],
   "source": []
  }
 ],
 "metadata": {
  "kernelspec": {
   "display_name": "Python 3 (ipykernel)",
   "language": "python",
   "name": "python3"
  },
  "language_info": {
   "codemirror_mode": {
    "name": "ipython",
    "version": 3
   },
   "file_extension": ".py",
   "mimetype": "text/x-python",
   "name": "python",
   "nbconvert_exporter": "python",
   "pygments_lexer": "ipython3",
   "version": "3.10.4"
  }
 },
 "nbformat": 4,
 "nbformat_minor": 5
}

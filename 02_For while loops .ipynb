{
 "cells": [
  {
   "cell_type": "code",
   "execution_count": null,
   "id": "299b1e07",
   "metadata": {},
   "outputs": [],
   "source": [
    "for i in range(0, 11):\n",
    "    print(i)\n",
    "else:\n",
    "    print(100)"
   ]
  },
  {
   "cell_type": "code",
   "execution_count": null,
   "id": "b7e723e3",
   "metadata": {},
   "outputs": [],
   "source": [
    "i = 0 \n",
    "while(i < 11):\n",
    "    print(i, end=\" \")\n",
    "    i = i+1\n",
    "else:\n",
    "    print(100)"
   ]
  },
  {
   "cell_type": "code",
   "execution_count": null,
   "id": "40c97a0e",
   "metadata": {},
   "outputs": [],
   "source": [
    "i = 12 \n",
    "while(i < 12):print(i)"
   ]
  },
  {
   "cell_type": "code",
   "execution_count": null,
   "id": "8e56079b",
   "metadata": {},
   "outputs": [],
   "source": [
    "for i in range(0, 11):\n",
    "    print(i, end=' ')"
   ]
  },
  {
   "cell_type": "code",
   "execution_count": null,
   "id": "1f5a0d5e",
   "metadata": {},
   "outputs": [],
   "source": [
    "for i in range(1, 10):\n",
    "    for j in range(i):\n",
    "        print(i)\n",
    "    print()"
   ]
  },
  {
   "cell_type": "code",
   "execution_count": null,
   "id": "bf9ee8a8",
   "metadata": {},
   "outputs": [],
   "source": [
    "for i in 'iamagirl':\n",
    "    if i == 'm' or i == 'l':\n",
    "        continue\n",
    "    print('current letter :', i)\n",
    "        "
   ]
  },
  {
   "cell_type": "code",
   "execution_count": null,
   "id": "8f137dd8",
   "metadata": {},
   "outputs": [],
   "source": [
    "for i in 'iamagirl':\n",
    "    if i == 'm' or i == 'l':\n",
    "        break\n",
    "    print('current letter :', i)"
   ]
  },
  {
   "cell_type": "code",
   "execution_count": null,
   "id": "f873f983",
   "metadata": {},
   "outputs": [],
   "source": [
    "for i in 'iamagirl':\n",
    "    pass \n",
    "print('last letter', i)"
   ]
  },
  {
   "cell_type": "code",
   "execution_count": 1,
   "id": "344d06c7",
   "metadata": {},
   "outputs": [
    {
     "name": "stdout",
     "output_type": "stream",
     "text": [
      "Welcome to the game: \n",
      "1: rock\n",
      "2: scissors\n",
      "3: paper\n",
      "q or Q : to quit\n",
      "Enter your choice: 1\n",
      "You took rock\n",
      "\n",
      "\n",
      "\n",
      "Welcome to the game: \n",
      "1: rock\n",
      "2: scissors\n",
      "3: paper\n",
      "q or Q : to quit\n",
      "Enter your choice: 2\n",
      "You took scissors\n",
      "\n",
      "\n",
      "\n",
      "Welcome to the game: \n",
      "1: rock\n",
      "2: scissors\n",
      "3: paper\n",
      "q or Q : to quit\n",
      "Enter your choice: 3\n",
      "You took paper\n",
      "\n",
      "\n",
      "\n",
      "Welcome to the game: \n",
      "1: rock\n",
      "2: scissors\n",
      "3: paper\n",
      "q or Q : to quit\n",
      "Enter your choice: 5\n",
      "You took an invalid choice\n",
      "\n",
      "\n",
      "\n",
      "Welcome to the game: \n",
      "1: rock\n",
      "2: scissors\n",
      "3: paper\n",
      "q or Q : to quit\n",
      "Enter your choice: r\n",
      "You took an invalid choice\n",
      "\n",
      "\n",
      "\n",
      "Welcome to the game: \n",
      "1: rock\n",
      "2: scissors\n",
      "3: paper\n",
      "q or Q : to quit\n",
      "Enter your choice: q\n",
      "You quit\n",
      "User left!!\n"
     ]
    }
   ],
   "source": [
    "while(True):\n",
    "    print('Welcome to the game: ')\n",
    "    print('1: rock')\n",
    "    print('2: scissors')\n",
    "    print('3: paper')\n",
    "    print('q or Q : to quit')\n",
    "    option = input(\"Enter your choice: \")\n",
    "    if option == '1':\n",
    "        print('You took rock')\n",
    "    elif option == '2':\n",
    "        print('You took scissors')\n",
    "    elif option == '3':\n",
    "        print('You took paper')\n",
    "    elif option == 'q' or option == 'Q':\n",
    "        print('You quit')\n",
    "        break\n",
    "    else:\n",
    "        print('You took an invalid choice')\n",
    "    print('\\n\\n')\n",
    "print('User left!!')"
   ]
  },
  {
   "cell_type": "code",
   "execution_count": null,
   "id": "f4e0ff42",
   "metadata": {},
   "outputs": [],
   "source": []
  },
  {
   "cell_type": "code",
   "execution_count": null,
   "id": "8962e40f",
   "metadata": {},
   "outputs": [],
   "source": []
  }
 ],
 "metadata": {
  "kernelspec": {
   "display_name": "Python 3 (ipykernel)",
   "language": "python",
   "name": "python3"
  },
  "language_info": {
   "codemirror_mode": {
    "name": "ipython",
    "version": 3
   },
   "file_extension": ".py",
   "mimetype": "text/x-python",
   "name": "python",
   "nbconvert_exporter": "python",
   "pygments_lexer": "ipython3",
   "version": "3.10.4"
  }
 },
 "nbformat": 4,
 "nbformat_minor": 5
}

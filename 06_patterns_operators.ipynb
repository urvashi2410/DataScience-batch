{
 "cells": [
  {
   "cell_type": "code",
   "execution_count": null,
   "id": "7fb6a0fb",
   "metadata": {},
   "outputs": [],
   "source": [
    "# Patterns pe charcha "
   ]
  },
  {
   "cell_type": "code",
   "execution_count": 1,
   "id": "66d56021",
   "metadata": {},
   "outputs": [
    {
     "name": "stdout",
     "output_type": "stream",
     "text": [
      "10\n",
      "20\n",
      "10\n",
      "100\n",
      "10.0\n"
     ]
    }
   ],
   "source": [
    "# Assignment operator \n",
    "a = 10\n",
    "\n",
    "b = a\n",
    "print(b)\n",
    "b += a\n",
    "print(b)\n",
    "# b = b+a\n",
    "\n",
    "b -= a\n",
    "print(b)\n",
    "\n",
    "b *= a\n",
    "print(b)\n",
    "\n",
    "b /= a\n",
    "print(b)"
   ]
  },
  {
   "cell_type": "code",
   "execution_count": 2,
   "id": "a8a5dcbd",
   "metadata": {},
   "outputs": [
    {
     "name": "stdout",
     "output_type": "stream",
     "text": [
      "False\n",
      "True\n"
     ]
    }
   ],
   "source": [
    "# indentity operator \n",
    "a = 10\n",
    "b = 5\n",
    "\n",
    "print(a is b)\n",
    "print(a is not b)"
   ]
  },
  {
   "cell_type": "code",
   "execution_count": 3,
   "id": "435330b9",
   "metadata": {},
   "outputs": [
    {
     "name": "stdout",
     "output_type": "stream",
     "text": [
      "b in l\n"
     ]
    }
   ],
   "source": [
    "# Membership operator \n",
    "a = 10\n",
    "b = 5\n",
    "l = [1,2,3,4,5,6,7,8,9]\n",
    "\n",
    "if a in l:\n",
    "    print(\"yes\")\n",
    "\n",
    "if b in l:\n",
    "    print(\"b in l\")"
   ]
  },
  {
   "cell_type": "code",
   "execution_count": 4,
   "id": "507be674",
   "metadata": {},
   "outputs": [
    {
     "name": "stdout",
     "output_type": "stream",
     "text": [
      "100.0\n",
      "12\n",
      "0\n",
      "2417851639229258349412352\n"
     ]
    }
   ],
   "source": [
    "# Associativity = left to right \n",
    "# / , * = same precedence \n",
    "# +, - = same precedence \n",
    "# /, * > -, + \n",
    "# () = precedence acc to bodmas \n",
    "print(100 / 10*10)\n",
    "\n",
    "print(10-2+4)\n",
    "\n",
    "print(5 - (2+3))\n",
    "\n",
    "# right-left associativity \n",
    "print(2**3**4)"
   ]
  },
  {
   "cell_type": "code",
   "execution_count": 5,
   "id": "a1d25545",
   "metadata": {},
   "outputs": [
    {
     "name": "stdout",
     "output_type": "stream",
     "text": [
      "3\n",
      "hello world\n",
      "helloworld\n",
      "30\n",
      "hellohellohello\n"
     ]
    }
   ],
   "source": [
    "# + operator \n",
    "\n",
    "print(1 + 2)\n",
    "\n",
    "print(f\"hello world\")\n",
    "print(\"hello\" + \"world\")\n",
    "\n",
    "print(3 * 10)\n",
    "# print(\"hello\" + 3)\n",
    "\n",
    "# repeat the string \n",
    "print(\"hello\" * 3)"
   ]
  },
  {
   "cell_type": "markdown",
   "id": "0efa6b15",
   "metadata": {},
   "source": [
    "<!-- #### 1 2 2 3 3 3 4 4 4 4   -->\n",
    "n = int(input(\"enter n:\"))\n",
    "for i in range(1, n+1):\n",
    "    for j in range(i, n+1):\n",
    "        print(i, end=\" \")\n",
    "    print('\\n')"
   ]
  },
  {
   "cell_type": "code",
   "execution_count": 7,
   "id": "837a3cc8",
   "metadata": {},
   "outputs": [
    {
     "name": "stdout",
     "output_type": "stream",
     "text": [
      "enter n:4\n",
      "1 \n",
      "\n",
      "2 2 \n",
      "\n",
      "3 3 3 \n",
      "\n",
      "4 4 4 4 \n",
      "\n"
     ]
    }
   ],
   "source": [
    "n = int(input(\"enter n:\"))\n",
    "for i in range(1, n+1):\n",
    "    for j in range(i):\n",
    "        print(i, end=\" \")\n",
    "    print('\\n')"
   ]
  },
  {
   "cell_type": "code",
   "execution_count": 8,
   "id": "0f60b828",
   "metadata": {},
   "outputs": [
    {
     "name": "stdout",
     "output_type": "stream",
     "text": [
      "enter n:4\n",
      "*\n",
      "**\n",
      "***\n",
      "****\n"
     ]
    }
   ],
   "source": [
    "n = int(input(\"enter n:\"))\n",
    "for i in range(1, n+1):\n",
    "    print(i * '*')"
   ]
  },
  {
   "cell_type": "code",
   "execution_count": null,
   "id": "b9ff340e",
   "metadata": {},
   "outputs": [],
   "source": [
    "n = int(input(\"enter n:\"))\n",
    "for i in range(1, n+1):\n",
    "    print(n * \"*\")"
   ]
  },
  {
   "cell_type": "code",
   "execution_count": 2,
   "id": "b0f58d2b",
   "metadata": {},
   "outputs": [
    {
     "name": "stdout",
     "output_type": "stream",
     "text": [
      "enter n5\n",
      "    * \n",
      "   * * \n",
      "  * * * \n",
      " * * * * \n",
      "* * * * * \n"
     ]
    }
   ],
   "source": [
    "n = int(input(\"enter n\"))\n",
    "i = 0 1 2 3 4 \n",
    "for i in range(0, n):\n",
    "    for j in range(0, n-i-1):\n",
    "        print(end=\" \")\n",
    "    for j in range(0, i+1):\n",
    "        print('*', end=\" \")\n",
    "    print()"
   ]
  },
  {
   "cell_type": "code",
   "execution_count": null,
   "id": "fb723328",
   "metadata": {},
   "outputs": [],
   "source": [
    "# diamond pattern homework "
   ]
  }
 ],
 "metadata": {
  "kernelspec": {
   "display_name": "Python 3 (ipykernel)",
   "language": "python",
   "name": "python3"
  },
  "language_info": {
   "codemirror_mode": {
    "name": "ipython",
    "version": 3
   },
   "file_extension": ".py",
   "mimetype": "text/x-python",
   "name": "python",
   "nbconvert_exporter": "python",
   "pygments_lexer": "ipython3",
   "version": "3.10.4"
  }
 },
 "nbformat": 4,
 "nbformat_minor": 5
}

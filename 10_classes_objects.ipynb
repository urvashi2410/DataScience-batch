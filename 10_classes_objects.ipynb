{
 "cells": [
  {
   "cell_type": "code",
   "execution_count": 3,
   "id": "da417455",
   "metadata": {},
   "outputs": [
    {
     "name": "stdout",
     "output_type": "stream",
     "text": [
      "10\n",
      "hello world\n"
     ]
    }
   ],
   "source": [
    "# function = def \n",
    "# class Car:\n",
    "#     fuel \n",
    "#     color \n",
    "    \n",
    "#     move():\n",
    "    \n",
    "#     speaker()\n",
    "    \n",
    "#     ac()\n",
    "\n",
    "# constructor = default constructor \n",
    "class Car:\n",
    "    x = 10\n",
    "    \n",
    "    def func(self):\n",
    "        print(\"hello world\")\n",
    "# print(x)\n",
    "obj = Car()\n",
    "print(obj.x)\n",
    "obj.func()"
   ]
  },
  {
   "cell_type": "code",
   "execution_count": 12,
   "id": "02362d18",
   "metadata": {},
   "outputs": [
    {
     "name": "stdout",
     "output_type": "stream",
     "text": [
      "riya 34\n",
      "ansh 45\n"
     ]
    }
   ],
   "source": [
    "class Student:\n",
    "#     parameterised constructor \n",
    "    def __init__(self, name, age):\n",
    "        self.name = name\n",
    "        self.age = age\n",
    "        \n",
    "obj = Student(\"riya\", 34)\n",
    "print(obj.name, obj.age)\n",
    "obj = Student(\"ansh\", 45)\n",
    "print(obj.name, obj.age)"
   ]
  },
  {
   "cell_type": "code",
   "execution_count": 9,
   "id": "7f4eecd2",
   "metadata": {},
   "outputs": [],
   "source": [
    "# Constructor \n",
    "# 1. much like the function \n",
    "# 2. we have to call the function manually but contructors are automatically called when we make an object\n",
    "# 3. constructor's name is predefined "
   ]
  },
  {
   "cell_type": "code",
   "execution_count": 15,
   "id": "91b32f3e",
   "metadata": {},
   "outputs": [
    {
     "name": "stdout",
     "output_type": "stream",
     "text": [
      "78\n",
      "6\n"
     ]
    },
    {
     "ename": "NameError",
     "evalue": "name 'obj' is not defined",
     "output_type": "error",
     "traceback": [
      "\u001b[1;31m---------------------------------------------------------------------------\u001b[0m",
      "\u001b[1;31mNameError\u001b[0m                                 Traceback (most recent call last)",
      "\u001b[1;32mC:\\Users\\URVASH~1\\AppData\\Local\\Temp/ipykernel_4780/3756322105.py\u001b[0m in \u001b[0;36m<module>\u001b[1;34m\u001b[0m\n\u001b[0;32m      8\u001b[0m \u001b[0mprint\u001b[0m\u001b[1;33m(\u001b[0m\u001b[0mobj\u001b[0m\u001b[1;33m.\u001b[0m\u001b[0mage\u001b[0m\u001b[1;33m)\u001b[0m\u001b[1;33m\u001b[0m\u001b[1;33m\u001b[0m\u001b[0m\n\u001b[0;32m      9\u001b[0m \u001b[1;32mdel\u001b[0m \u001b[0mobj\u001b[0m\u001b[1;33m\u001b[0m\u001b[1;33m\u001b[0m\u001b[0m\n\u001b[1;32m---> 10\u001b[1;33m \u001b[0mprint\u001b[0m\u001b[1;33m(\u001b[0m\u001b[0mobj\u001b[0m\u001b[1;33m.\u001b[0m\u001b[0mage\u001b[0m\u001b[1;33m)\u001b[0m\u001b[1;33m\u001b[0m\u001b[1;33m\u001b[0m\u001b[0m\n\u001b[0m",
      "\u001b[1;31mNameError\u001b[0m: name 'obj' is not defined"
     ]
    }
   ],
   "source": [
    "class Student:\n",
    "    age = 6\n",
    "\n",
    "obj = Student()\n",
    "obj.age = 78\n",
    "print(obj.age)\n",
    "del obj.age \n",
    "print(obj.age)\n",
    "del obj \n",
    "print(obj.age)"
   ]
  },
  {
   "cell_type": "code",
   "execution_count": 16,
   "id": "747d6204",
   "metadata": {},
   "outputs": [],
   "source": [
    "class Student:\n",
    "    pass \n"
   ]
  },
  {
   "cell_type": "code",
   "execution_count": 24,
   "id": "9d09a1c5",
   "metadata": {},
   "outputs": [
    {
     "name": "stdout",
     "output_type": "stream",
     "text": [
      "34\n",
      "Destructor called\n"
     ]
    },
    {
     "ename": "NameError",
     "evalue": "name 'obj' is not defined",
     "output_type": "error",
     "traceback": [
      "\u001b[1;31m---------------------------------------------------------------------------\u001b[0m",
      "\u001b[1;31mNameError\u001b[0m                                 Traceback (most recent call last)",
      "\u001b[1;32mC:\\Users\\URVASH~1\\AppData\\Local\\Temp/ipykernel_4780/2189229225.py\u001b[0m in \u001b[0;36m<module>\u001b[1;34m\u001b[0m\n\u001b[0;32m     14\u001b[0m \u001b[0mprint\u001b[0m\u001b[1;33m(\u001b[0m\u001b[0mobj\u001b[0m\u001b[1;33m.\u001b[0m\u001b[0mx\u001b[0m\u001b[1;33m)\u001b[0m\u001b[1;33m\u001b[0m\u001b[1;33m\u001b[0m\u001b[0m\n\u001b[0;32m     15\u001b[0m \u001b[1;32mdel\u001b[0m \u001b[0mobj\u001b[0m\u001b[1;33m\u001b[0m\u001b[1;33m\u001b[0m\u001b[0m\n\u001b[1;32m---> 16\u001b[1;33m \u001b[0mprint\u001b[0m\u001b[1;33m(\u001b[0m\u001b[0mobj\u001b[0m\u001b[1;33m.\u001b[0m\u001b[0mx\u001b[0m\u001b[1;33m)\u001b[0m\u001b[1;33m\u001b[0m\u001b[1;33m\u001b[0m\u001b[0m\n\u001b[0m",
      "\u001b[1;31mNameError\u001b[0m: name 'obj' is not defined"
     ]
    }
   ],
   "source": [
    "class Student:\n",
    "    x = 9\n",
    "    \n",
    "    def __init__(self, x):\n",
    "        self.x = x\n",
    "        \n",
    "#     default destructor \n",
    "#     def __del__(self):\n",
    "      \n",
    "    def __del__(self):\n",
    "        print(\"Destructor called\")\n",
    "            \n",
    "obj = Student(34)\n",
    "print(obj.x)\n",
    "del obj\n",
    "print(obj.x)"
   ]
  },
  {
   "cell_type": "code",
   "execution_count": 1,
   "id": "1dc88343",
   "metadata": {},
   "outputs": [
    {
     "name": "stdout",
     "output_type": "stream",
     "text": [
      "Calling the function\n",
      "FUnction start\n",
      "Constructor\n",
      "Function end\n",
      "Destructor\n",
      "Program ends\n"
     ]
    }
   ],
   "source": [
    "class Student:\n",
    "    def __init__(self):\n",
    "        print(\"Constructor\")\n",
    "    \n",
    "    def __del__(self):\n",
    "        print(\"Destructor\")\n",
    "    \n",
    "def func():\n",
    "    print(\"FUnction start\")\n",
    "    obj = Student()\n",
    "    print(\"Function end\")\n",
    "\n",
    "print(\"Calling the function\")\n",
    "func()\n",
    "print(\"Program ends\")\n",
    "# del obj"
   ]
  },
  {
   "cell_type": "code",
   "execution_count": null,
   "id": "71e7a510",
   "metadata": {},
   "outputs": [],
   "source": []
  }
 ],
 "metadata": {
  "kernelspec": {
   "display_name": "Python 3 (ipykernel)",
   "language": "python",
   "name": "python3"
  },
  "language_info": {
   "codemirror_mode": {
    "name": "ipython",
    "version": 3
   },
   "file_extension": ".py",
   "mimetype": "text/x-python",
   "name": "python",
   "nbconvert_exporter": "python",
   "pygments_lexer": "ipython3",
   "version": "3.10.4"
  }
 },
 "nbformat": 4,
 "nbformat_minor": 5
}
